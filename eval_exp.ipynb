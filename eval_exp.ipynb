{
 "cells": [
  {
   "cell_type": "code",
   "execution_count": 1,
   "metadata": {},
   "outputs": [
    {
     "name": "stderr",
     "output_type": "stream",
     "text": [
      "C:\\Users\\luccas.marim\\AppData\\Local\\Packages\\PythonSoftwareFoundation.Python.3.10_qbz5n2kfra8p0\\LocalCache\\local-packages\\Python310\\site-packages\\openfermion\\hamiltonians\\hartree_fock.py:11: DeprecationWarning: Please use `OptimizeResult` from the `scipy.optimize` namespace, the `scipy.optimize.optimize` namespace is deprecated.\n",
      "  from scipy.optimize.optimize import OptimizeResult\n",
      "C:\\Users\\luccas.marim\\AppData\\Local\\Packages\\PythonSoftwareFoundation.Python.3.10_qbz5n2kfra8p0\\LocalCache\\local-packages\\Python310\\site-packages\\paddle\\tensor\\creation.py:125: DeprecationWarning: `np.object` is a deprecated alias for the builtin `object`. To silence this warning, use `object` by itself. Doing this will not modify any behavior and is safe. \n",
      "Deprecated in NumPy 1.20; for more details and guidance: https://numpy.org/devdocs/release/1.20.0-notes.html#deprecations\n",
      "  if data.dtype == np.object:\n"
     ]
    }
   ],
   "source": [
    "import numpy as np\n",
    "import paddle_quantum as pq\n",
    "from paddle_quantum.ansatz.circuit import Circuit\n",
    "\n",
    "from paddle_quantum.linalg import haar_unitary\n",
    "from paddle_quantum.qinfo import state_fidelity\n",
    "from paddle_quantum.state.common import to_state\n",
    "from scipy import integrate\n",
    "\n",
    "from scipy.stats import entropy\n",
    "\n",
    "num_qubit = 4\n",
    "num_sample = 2000"
   ]
  },
  {
   "cell_type": "code",
   "execution_count": 2,
   "metadata": {},
   "outputs": [],
   "source": [
    "def p_F_haar(n, s, b=50):\n",
    "    \n",
    "    f_list = list()\n",
    "\n",
    "    for i in range(s):\n",
    "        u1 = haar_unitary(n)\n",
    "        phi1 = u1[:,0]\n",
    "        rho1 = to_state(np.outer(phi1, phi1.conj()))\n",
    "        u2 = haar_unitary(n)\n",
    "        phi2 = u2[:,0]\n",
    "        rho2 = to_state(np.outer(phi2, phi2.conj()))\n",
    "        f_list.append(state_fidelity(rho1, rho2)**2)\n",
    "\n",
    "    f_list = np.array(f_list)\n",
    "    sample_distribution, _ = np.histogram(f_list, bins=np.linspace(0, 1, num=b), density=True)\n",
    "    theory_distribution = np.zeros_like(sample_distribution)\n",
    "\n",
    "    for index in range(len(theory_distribution)):\n",
    "        def p_continues(f):\n",
    "            return (2 ** n - 1) * (1 - f) ** (2 ** n - 2)\n",
    "        lower = 1/b*index\n",
    "        upper = lower + 1/b\n",
    "        theory_distribution[index], _ = integrate.quad(p_continues,lower,upper)\n",
    "\n",
    "    return sample_distribution, theory_distribution"
   ]
  },
  {
   "cell_type": "code",
   "execution_count": 3,
   "metadata": {},
   "outputs": [],
   "source": [
    "pq.set_backend('density_matrix')\n",
    "\n",
    "def p_F_cel(n, d, s, b=50):\n",
    "\n",
    "    pq.set_backend('state_vector')\n",
    "    f_list = list()\n",
    "    for _ in range(int(s / 2)):\n",
    "\n",
    "        # Aqui colocamos o circuito quântico variacional 2 vezes\n",
    "\n",
    "        cir1 = Circuit(num_qubit)\n",
    "        for i in range(num_qubit):\n",
    "            cir1.rx(i)\n",
    "            cir1.rz(i)\n",
    "        cir1.crz([3,2])\n",
    "        cir1.crz([2,1])\n",
    "        cir1.crz([1,0])\n",
    "\n",
    "        cir2 = Circuit(num_qubit)\n",
    "        for i in range(num_qubit):\n",
    "            cir2.rx(i)\n",
    "            cir2.rz(i)\n",
    "        cir2.crz([3,2])\n",
    "        cir2.crz([2,1])\n",
    "        cir2.crz([1,0])\n",
    "\n",
    "\n",
    "\n",
    "        rho1 = cir1(pq.state.zero_state(n))\n",
    "        rho2 = cir2(pq.state.zero_state(n))\n",
    "        \n",
    "        f_list.append(abs(np.inner(rho1.data.numpy(), rho2.data.numpy().conj()))**2)\n",
    "        \n",
    "    f_list = np.array(f_list)\n",
    "\n",
    "    distribution, _ = np.histogram(f_list, bins=np.linspace(0, 1, num=b), density=True)\n",
    "\n",
    "    return distribution"
   ]
  },
  {
   "cell_type": "code",
   "execution_count": 4,
   "metadata": {},
   "outputs": [
    {
     "name": "stderr",
     "output_type": "stream",
     "text": [
      "C:\\Users\\luccas.marim\\AppData\\Local\\Packages\\PythonSoftwareFoundation.Python.3.10_qbz5n2kfra8p0\\LocalCache\\local-packages\\Python310\\site-packages\\paddle\\fluid\\framework.py:1104: DeprecationWarning: `np.bool` is a deprecated alias for the builtin `bool`. To silence this warning, use `bool` by itself. Doing this will not modify any behavior and is safe. If you specifically wanted the numpy scalar type, use `np.bool_` here.\n",
      "Deprecated in NumPy 1.20; for more details and guidance: https://numpy.org/devdocs/release/1.20.0-notes.html#deprecations\n",
      "  elif dtype == np.bool:\n"
     ]
    },
    {
     "name": "stdout",
     "output_type": "stream",
     "text": [
      "The expressibility is [0.2892]\n"
     ]
    }
   ],
   "source": [
    "p_haar_4qubit, theory_haar_4qubit = p_F_haar(num_qubit, num_sample)\n",
    "\n",
    "p_cel = p_F_cel(num_qubit, 1, num_sample)\n",
    "expr = entropy(p_cel, theory_haar_4qubit)\n",
    "\n",
    "Expr_cel = list()\n",
    "Expr_cel.append(expr)\n",
    "\n",
    "print(\"The expressibility is\", np.around(Expr_cel, decimals=4))"
   ]
  }
 ],
 "metadata": {
  "kernelspec": {
   "display_name": "Python 3",
   "language": "python",
   "name": "python3"
  },
  "language_info": {
   "codemirror_mode": {
    "name": "ipython",
    "version": 3
   },
   "file_extension": ".py",
   "mimetype": "text/x-python",
   "name": "python",
   "nbconvert_exporter": "python",
   "pygments_lexer": "ipython3",
   "version": "3.10.11"
  },
  "orig_nbformat": 4
 },
 "nbformat": 4,
 "nbformat_minor": 2
}
